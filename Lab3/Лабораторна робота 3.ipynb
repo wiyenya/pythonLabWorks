{
 "cells": [
  {
   "cell_type": "code",
   "execution_count": 99,
   "id": "e2875ae0-6fe5-442c-88cd-0e8e62e2c309",
   "metadata": {},
   "outputs": [],
   "source": [
    "import pandas as pd\n",
    "import numpy as np\n",
    "\n",
    "# 1. Завантажуємо файл Excel, пропускаючи непотрібні рядки та стовпці\n",
    "file_path = 'En_In.xls'\n",
    "Energy = pd.read_excel(file_path, skiprows=17, usecols=[1, 3, 4, 5], names=['Country', 'Energy Supply', 'Energy Supply per Capita', '% Renewable'])\n",
    "\n",
    "# Отключаем предупреждение о silent downcasting\n",
    "pd.set_option('future.no_silent_downcasting', True)\n",
    "\n",
    "# 2. Переводимо 'Energy Supply' з ПДж у ГДж\n",
    "Energy['Energy Supply'] = pd.to_numeric(Energy['Energy Supply'], errors='coerce') * 1000000\n",
    "\n",
    "# Замінюємо \"...\" на np.NaN для відсутніх значень\n",
    "Energy.replace(\"...\", np.nan, inplace=True)\n",
    "\n",
    "# Если нужно заменить Inf на NaN\n",
    "Energy.replace([np.inf, -np.inf], np.nan, inplace=True)\n",
    "\n",
    "# 3. Перейменовуємо країни\n",
    "Energy['Country'] = Energy['Country'].replace({\n",
    "    \"Republic of Korea\": \"South Korea\",\n",
    "    \"United States of America\": \"United States\",\n",
    "    \"United Kingdom of Great Britain and Northern Ireland\": \"United Kingdom\",\n",
    "    \"China, Hong Kong Special Administrative Region\": \"Hong Kong\"\n",
    "})\n",
    "\n",
    "# 4. Видаляємо цифри і дужки з назв країн\n",
    "Energy['Country'] = Energy['Country'].str.replace(r\"\\(.*\\)\", \"\", regex=True).str.replace(r\"\\d+\", \"\", regex=True).str.strip()\n",
    "\n",
    "# Округлюємо до трьох знаків після коми у стовпці '% Renewable'\n",
    "Energy['% Renewable'] = Energy['% Renewable'].round(3)"
   ]
  },
  {
   "cell_type": "code",
   "execution_count": 100,
   "id": "143dd439-3212-48ef-ae29-2c3e884ec202",
   "metadata": {
    "scrolled": true
   },
   "outputs": [
    {
     "data": {
      "text/html": [
       "<div>\n",
       "<style scoped>\n",
       "    .dataframe tbody tr th:only-of-type {\n",
       "        vertical-align: middle;\n",
       "    }\n",
       "\n",
       "    .dataframe tbody tr th {\n",
       "        vertical-align: top;\n",
       "    }\n",
       "\n",
       "    .dataframe thead th {\n",
       "        text-align: right;\n",
       "    }\n",
       "</style>\n",
       "<table border=\"1\" class=\"dataframe\">\n",
       "  <thead>\n",
       "    <tr style=\"text-align: right;\">\n",
       "      <th></th>\n",
       "      <th>Country</th>\n",
       "      <th>Energy Supply</th>\n",
       "      <th>Energy Supply per Capita</th>\n",
       "      <th>% Renewable</th>\n",
       "    </tr>\n",
       "  </thead>\n",
       "  <tbody>\n",
       "    <tr>\n",
       "      <th>3</th>\n",
       "      <td>American Samoa</td>\n",
       "      <td>NaN</td>\n",
       "      <td>NaN</td>\n",
       "      <td>0.641</td>\n",
       "    </tr>\n",
       "    <tr>\n",
       "      <th>24</th>\n",
       "      <td>Bolivia</td>\n",
       "      <td>336000000.000</td>\n",
       "      <td>32</td>\n",
       "      <td>31.477</td>\n",
       "    </tr>\n",
       "    <tr>\n",
       "      <th>164</th>\n",
       "      <td>South Korea</td>\n",
       "      <td>11007000000.000</td>\n",
       "      <td>221</td>\n",
       "      <td>2.279</td>\n",
       "    </tr>\n",
       "  </tbody>\n",
       "</table>\n",
       "</div>"
      ],
      "text/plain": [
       "            Country   Energy Supply Energy Supply per Capita  % Renewable\n",
       "3    American Samoa             NaN                      NaN        0.641\n",
       "24          Bolivia   336000000.000                       32       31.477\n",
       "164     South Korea 11007000000.000                      221        2.279"
      ]
     },
     "execution_count": 100,
     "metadata": {},
     "output_type": "execute_result"
    }
   ],
   "source": [
    "Energy.loc[Energy['Country'].isin(['American Samoa', 'South Korea', 'Bolivia' ])]"
   ]
  },
  {
   "cell_type": "code",
   "execution_count": 101,
   "id": "63a55e7a-659e-41ef-b34f-b8038f984f64",
   "metadata": {},
   "outputs": [],
   "source": [
    "# Завантажуємо файл CSV, пропускаючи заголовок\n",
    "file_path = 'gpd.csv'\n",
    "GDP = pd.read_csv(file_path, skiprows=4)\n",
    "\n",
    "# Перейменовуємо країни згідно з інструкціями\n",
    "GDP['Country Name'] = GDP['Country Name'].replace({\n",
    "    \"Korea, Rep.\": \"South Korea\",\n",
    "    \"Iran, Islamic Rep.\": \"Iran\",\n",
    "    \"Hong Kong SAR, China\": \"Hong Kong\"\n",
    "})\n",
    "pd.set_option('display.max_columns', 15)\n"
   ]
  },
  {
   "cell_type": "code",
   "execution_count": 37,
   "id": "fbb6ab8d-0165-4324-948e-7c614b7de0fe",
   "metadata": {},
   "outputs": [
    {
     "data": {
      "text/html": [
       "<div>\n",
       "<style scoped>\n",
       "    .dataframe tbody tr th:only-of-type {\n",
       "        vertical-align: middle;\n",
       "    }\n",
       "\n",
       "    .dataframe tbody tr th {\n",
       "        vertical-align: top;\n",
       "    }\n",
       "\n",
       "    .dataframe thead th {\n",
       "        text-align: right;\n",
       "    }\n",
       "</style>\n",
       "<table border=\"1\" class=\"dataframe\">\n",
       "  <thead>\n",
       "    <tr style=\"text-align: right;\">\n",
       "      <th></th>\n",
       "      <th>Country Name</th>\n",
       "      <th>Country Code</th>\n",
       "      <th>Indicator Name</th>\n",
       "      <th>Indicator Code</th>\n",
       "      <th>1960</th>\n",
       "      <th>1961</th>\n",
       "      <th>1962</th>\n",
       "      <th>...</th>\n",
       "      <th>2009</th>\n",
       "      <th>2010</th>\n",
       "      <th>2011</th>\n",
       "      <th>2012</th>\n",
       "      <th>2013</th>\n",
       "      <th>2014</th>\n",
       "      <th>2015</th>\n",
       "    </tr>\n",
       "  </thead>\n",
       "  <tbody>\n",
       "    <tr>\n",
       "      <th>0</th>\n",
       "      <td>Aruba</td>\n",
       "      <td>ABW</td>\n",
       "      <td>GDP at market prices (constant 2010 US$)</td>\n",
       "      <td>NY.GDP.MKTP.KD</td>\n",
       "      <td>NaN</td>\n",
       "      <td>NaN</td>\n",
       "      <td>NaN</td>\n",
       "      <td>...</td>\n",
       "      <td>NaN</td>\n",
       "      <td>2467703910.615</td>\n",
       "      <td>NaN</td>\n",
       "      <td>NaN</td>\n",
       "      <td>NaN</td>\n",
       "      <td>NaN</td>\n",
       "      <td>NaN</td>\n",
       "    </tr>\n",
       "  </tbody>\n",
       "</table>\n",
       "<p>1 rows × 60 columns</p>\n",
       "</div>"
      ],
      "text/plain": [
       "  Country Name Country Code                            Indicator Name  \\\n",
       "0        Aruba          ABW  GDP at market prices (constant 2010 US$)   \n",
       "\n",
       "   Indicator Code  1960  1961  1962  ...  2009           2010  2011  2012  \\\n",
       "0  NY.GDP.MKTP.KD   NaN   NaN   NaN  ...   NaN 2467703910.615   NaN   NaN   \n",
       "\n",
       "   2013  2014  2015  \n",
       "0   NaN   NaN   NaN  \n",
       "\n",
       "[1 rows x 60 columns]"
      ]
     },
     "execution_count": 37,
     "metadata": {},
     "output_type": "execute_result"
    }
   ],
   "source": [
    "GDP.head(1) "
   ]
  },
  {
   "cell_type": "code",
   "execution_count": 60,
   "id": "f692fd11-5fbf-4761-a92f-2ab2a4156d73",
   "metadata": {},
   "outputs": [
    {
     "data": {
      "text/html": [
       "<div>\n",
       "<style scoped>\n",
       "    .dataframe tbody tr th:only-of-type {\n",
       "        vertical-align: middle;\n",
       "    }\n",
       "\n",
       "    .dataframe tbody tr th {\n",
       "        vertical-align: top;\n",
       "    }\n",
       "\n",
       "    .dataframe thead th {\n",
       "        text-align: right;\n",
       "    }\n",
       "</style>\n",
       "<table border=\"1\" class=\"dataframe\">\n",
       "  <thead>\n",
       "    <tr style=\"text-align: right;\">\n",
       "      <th></th>\n",
       "      <th>Rank</th>\n",
       "      <th>Country</th>\n",
       "      <th>Documents</th>\n",
       "      <th>Citable documents</th>\n",
       "      <th>Citations</th>\n",
       "      <th>Self-citations</th>\n",
       "      <th>Citations per document</th>\n",
       "      <th>H index</th>\n",
       "    </tr>\n",
       "  </thead>\n",
       "  <tbody>\n",
       "    <tr>\n",
       "      <th>0</th>\n",
       "      <td>1</td>\n",
       "      <td>China</td>\n",
       "      <td>127050</td>\n",
       "      <td>126767</td>\n",
       "      <td>597237</td>\n",
       "      <td>411683</td>\n",
       "      <td>4.700</td>\n",
       "      <td>138</td>\n",
       "    </tr>\n",
       "    <tr>\n",
       "      <th>1</th>\n",
       "      <td>2</td>\n",
       "      <td>United States</td>\n",
       "      <td>96661</td>\n",
       "      <td>94747</td>\n",
       "      <td>792274</td>\n",
       "      <td>265436</td>\n",
       "      <td>8.200</td>\n",
       "      <td>230</td>\n",
       "    </tr>\n",
       "    <tr>\n",
       "      <th>2</th>\n",
       "      <td>3</td>\n",
       "      <td>Japan</td>\n",
       "      <td>30504</td>\n",
       "      <td>30287</td>\n",
       "      <td>223024</td>\n",
       "      <td>61554</td>\n",
       "      <td>7.310</td>\n",
       "      <td>134</td>\n",
       "    </tr>\n",
       "    <tr>\n",
       "      <th>3</th>\n",
       "      <td>4</td>\n",
       "      <td>United Kingdom</td>\n",
       "      <td>20944</td>\n",
       "      <td>20357</td>\n",
       "      <td>206091</td>\n",
       "      <td>37874</td>\n",
       "      <td>9.840</td>\n",
       "      <td>139</td>\n",
       "    </tr>\n",
       "    <tr>\n",
       "      <th>4</th>\n",
       "      <td>5</td>\n",
       "      <td>Russian Federation</td>\n",
       "      <td>18534</td>\n",
       "      <td>18301</td>\n",
       "      <td>34266</td>\n",
       "      <td>12422</td>\n",
       "      <td>1.850</td>\n",
       "      <td>57</td>\n",
       "    </tr>\n",
       "  </tbody>\n",
       "</table>\n",
       "</div>"
      ],
      "text/plain": [
       "   Rank             Country  Documents  Citable documents  Citations  \\\n",
       "0     1               China     127050             126767     597237   \n",
       "1     2       United States      96661              94747     792274   \n",
       "2     3               Japan      30504              30287     223024   \n",
       "3     4      United Kingdom      20944              20357     206091   \n",
       "4     5  Russian Federation      18534              18301      34266   \n",
       "\n",
       "   Self-citations  Citations per document  H index  \n",
       "0          411683                   4.700      138  \n",
       "1          265436                   8.200      230  \n",
       "2           61554                   7.310      134  \n",
       "3           37874                   9.840      139  \n",
       "4           12422                   1.850       57  "
      ]
     },
     "execution_count": 60,
     "metadata": {},
     "output_type": "execute_result"
    }
   ],
   "source": [
    "# 6. Завантажуємо дані з файлу Excel\n",
    "file_path = 'scimagojr.xlsx'\n",
    "scimagojr_data = pd.read_excel(file_path)\n",
    "\n",
    "# Виводимо перші кілька рядків, щоб перевірити дані\n",
    "scimagojr_data.head()"
   ]
  },
  {
   "cell_type": "code",
   "execution_count": 73,
   "id": "cdb88586-a0ac-4905-84e3-15cdc286b8c2",
   "metadata": {},
   "outputs": [],
   "source": [
    "# Вибираємо лише 15 країн з найвищим рейтингом\n",
    "scimagojr_data = scimagojr_data[scimagojr_data['Rank'] <= 15]\n",
    "\n",
    "# Об'єднуємо дані Scimagojr і енергоспоживання\n",
    "merged_data = pd.merge(scimagojr_data, Energy, how='inner', left_on='Country', right_on='Country')\n",
    "\n",
    "# Об'єднуємо з даними по ВВП\n",
    "final_data = pd.merge(merged_data, GDP, how='inner', left_on='Country', right_on='Country Name')\n",
    "\n",
    "# Вибираємо необхідні стовпці для фінальної таблиці\n",
    "columns_needed = ['Country', 'Rank', 'Documents', 'Citable documents', 'Citations', 'Self-citations',\n",
    "                  'Citations per document', 'H index', 'Energy Supply', 'Energy Supply per Capita', '% Renewable'] + [str(year) for year in range(2006, 2016)]\n",
    "Result = final_data[columns_needed]\n",
    "\n",
    "# Відбираємо тільки 15 країн після об'єднання\n",
    "Result = Result[Result['Rank'] <= 15]\n",
    "\n",
    "# Устанавливаем 'Country' как индекс\n",
    "Result.set_index('Country', inplace=True)\n"
   ]
  },
  {
   "cell_type": "code",
   "execution_count": 74,
   "id": "91310ea5-c11f-44cc-b356-eb1638ea9216",
   "metadata": {},
   "outputs": [
    {
     "data": {
      "text/html": [
       "<div>\n",
       "<style scoped>\n",
       "    .dataframe tbody tr th:only-of-type {\n",
       "        vertical-align: middle;\n",
       "    }\n",
       "\n",
       "    .dataframe tbody tr th {\n",
       "        vertical-align: top;\n",
       "    }\n",
       "\n",
       "    .dataframe thead th {\n",
       "        text-align: right;\n",
       "    }\n",
       "</style>\n",
       "<table border=\"1\" class=\"dataframe\">\n",
       "  <thead>\n",
       "    <tr style=\"text-align: right;\">\n",
       "      <th></th>\n",
       "      <th>Rank</th>\n",
       "      <th>Documents</th>\n",
       "      <th>Citable documents</th>\n",
       "      <th>Citations</th>\n",
       "      <th>Self-citations</th>\n",
       "      <th>Citations per document</th>\n",
       "      <th>H index</th>\n",
       "      <th>...</th>\n",
       "      <th>2009</th>\n",
       "      <th>2010</th>\n",
       "      <th>2011</th>\n",
       "      <th>2012</th>\n",
       "      <th>2013</th>\n",
       "      <th>2014</th>\n",
       "      <th>2015</th>\n",
       "    </tr>\n",
       "    <tr>\n",
       "      <th>Country</th>\n",
       "      <th></th>\n",
       "      <th></th>\n",
       "      <th></th>\n",
       "      <th></th>\n",
       "      <th></th>\n",
       "      <th></th>\n",
       "      <th></th>\n",
       "      <th></th>\n",
       "      <th></th>\n",
       "      <th></th>\n",
       "      <th></th>\n",
       "      <th></th>\n",
       "      <th></th>\n",
       "      <th></th>\n",
       "      <th></th>\n",
       "    </tr>\n",
       "  </thead>\n",
       "  <tbody>\n",
       "    <tr>\n",
       "      <th>China</th>\n",
       "      <td>1</td>\n",
       "      <td>127050</td>\n",
       "      <td>126767</td>\n",
       "      <td>597237</td>\n",
       "      <td>411683</td>\n",
       "      <td>4.700</td>\n",
       "      <td>138</td>\n",
       "      <td>...</td>\n",
       "      <td>5459247267275.140</td>\n",
       "      <td>6039658508485.590</td>\n",
       "      <td>6612490294273.650</td>\n",
       "      <td>7124977970399.610</td>\n",
       "      <td>7672447738017.420</td>\n",
       "      <td>8230120617793.520</td>\n",
       "      <td>8797998940421.279</td>\n",
       "    </tr>\n",
       "    <tr>\n",
       "      <th>United States</th>\n",
       "      <td>2</td>\n",
       "      <td>96661</td>\n",
       "      <td>94747</td>\n",
       "      <td>792274</td>\n",
       "      <td>265436</td>\n",
       "      <td>8.200</td>\n",
       "      <td>230</td>\n",
       "      <td>...</td>\n",
       "      <td>14594842181900.000</td>\n",
       "      <td>14964372000000.000</td>\n",
       "      <td>15204019634600.000</td>\n",
       "      <td>15542161722300.000</td>\n",
       "      <td>15773666098800.000</td>\n",
       "      <td>16156618476000.000</td>\n",
       "      <td>16548573278300.000</td>\n",
       "    </tr>\n",
       "    <tr>\n",
       "      <th>Japan</th>\n",
       "      <td>3</td>\n",
       "      <td>30504</td>\n",
       "      <td>30287</td>\n",
       "      <td>223024</td>\n",
       "      <td>61554</td>\n",
       "      <td>7.310</td>\n",
       "      <td>134</td>\n",
       "      <td>...</td>\n",
       "      <td>5251308399909.320</td>\n",
       "      <td>5498717815809.770</td>\n",
       "      <td>5473738114222.050</td>\n",
       "      <td>5569101602926.180</td>\n",
       "      <td>5644658523313.420</td>\n",
       "      <td>5642884448582.190</td>\n",
       "      <td>5669563143140.970</td>\n",
       "    </tr>\n",
       "  </tbody>\n",
       "</table>\n",
       "<p>3 rows × 20 columns</p>\n",
       "</div>"
      ],
      "text/plain": [
       "               Rank  Documents  Citable documents  Citations  Self-citations  \\\n",
       "Country                                                                        \n",
       "China             1     127050             126767     597237          411683   \n",
       "United States     2      96661              94747     792274          265436   \n",
       "Japan             3      30504              30287     223024           61554   \n",
       "\n",
       "               Citations per document  H index  ...               2009  \\\n",
       "Country                                         ...                      \n",
       "China                           4.700      138  ...  5459247267275.140   \n",
       "United States                   8.200      230  ... 14594842181900.000   \n",
       "Japan                           7.310      134  ...  5251308399909.320   \n",
       "\n",
       "                            2010               2011               2012  \\\n",
       "Country                                                                  \n",
       "China          6039658508485.590  6612490294273.650  7124977970399.610   \n",
       "United States 14964372000000.000 15204019634600.000 15542161722300.000   \n",
       "Japan          5498717815809.770  5473738114222.050  5569101602926.180   \n",
       "\n",
       "                            2013               2014               2015  \n",
       "Country                                                                 \n",
       "China          7672447738017.420  8230120617793.520  8797998940421.279  \n",
       "United States 15773666098800.000 16156618476000.000 16548573278300.000  \n",
       "Japan          5644658523313.420  5642884448582.190  5669563143140.970  \n",
       "\n",
       "[3 rows x 20 columns]"
      ]
     },
     "execution_count": 74,
     "metadata": {},
     "output_type": "execute_result"
    }
   ],
   "source": [
    "Result.head(3)"
   ]
  },
  {
   "cell_type": "code",
   "execution_count": 75,
   "id": "0bdee5cb-6bb5-455e-a8b5-96f23a75a2e3",
   "metadata": {},
   "outputs": [
    {
     "data": {
      "text/plain": [
       "(15, 20)"
      ]
     },
     "execution_count": 75,
     "metadata": {},
     "output_type": "execute_result"
    }
   ],
   "source": [
    "Result.shape"
   ]
  },
  {
   "cell_type": "code",
   "execution_count": 103,
   "id": "03cdb80c-60d3-427c-ba02-fb898df73390",
   "metadata": {},
   "outputs": [],
   "source": [
    "def task_eight():\n",
    "    # Вибираємо стовпці з ВВП за останні 10 років (2006-2015)\n",
    "    gdp_columns = [str(year) for year in range(2006, 2016)]\n",
    "    \n",
    "    # Обчислюємо середнє значення ВВП для кожної країни\n",
    "    avg_gdp = Result[gdp_columns].mean(axis=1)\n",
    "    \n",
    "    # Повертаємо відсортований об'єкт Series за спаданням\n",
    "    return avg_gdp.sort_values(ascending=False)\n"
   ]
  },
  {
   "cell_type": "code",
   "execution_count": 102,
   "id": "cf7dc0df-20cf-41c2-8b89-fbebc3ff87de",
   "metadata": {},
   "outputs": [
    {
     "data": {
      "text/plain": [
       "Country\n",
       "United States        15364344302990.000\n",
       "China                 6348608932836.100\n",
       "Japan                 5542207638235.176\n",
       "Germany               3493025339072.848\n",
       "France                2681724635761.589\n",
       "United Kingdom        2487906661418.417\n",
       "Brazil                2189794143774.905\n",
       "Italy                 2120175089933.776\n",
       "India                 1769297396603.860\n",
       "Canada                1660647466307.512\n",
       "Russian Federation    1565459478480.661\n",
       "Spain                 1418078278145.694\n",
       "Australia             1164042729991.427\n",
       "South Korea           1106714508244.852\n",
       "Iran                   444155754051.095\n",
       "dtype: float64"
      ]
     },
     "execution_count": 102,
     "metadata": {},
     "output_type": "execute_result"
    }
   ],
   "source": [
    "task_eight()"
   ]
  },
  {
   "cell_type": "code",
   "execution_count": 79,
   "id": "1e537935-ca6f-4ab8-96bc-62510bbfea37",
   "metadata": {},
   "outputs": [],
   "source": [
    "def task_nine():\n",
    "    # Отримуємо середній ВВП для всіх країн і сортуємо\n",
    "    avg_gdp = task_eight()\n",
    "    \n",
    "    # Знаходимо країну з 5-м середнім ВВП\n",
    "    fifth_country = avg_gdp.index[4]\n",
    "    \n",
    "    # Визначаємо зміну ВВП між 2006 і 2015 роками для цієї країни\n",
    "    gdp_change = Result.loc[fifth_country, '2015'] - Result.loc[fifth_country, '2006']\n",
    "    \n",
    "    # Повертаємо кортеж з назвою країни та зміною ВВП\n",
    "    return (fifth_country, gdp_change)"
   ]
  },
  {
   "cell_type": "code",
   "execution_count": 80,
   "id": "bc8602b2-ec15-4e9b-8cce-a2e59091b033",
   "metadata": {},
   "outputs": [
    {
     "data": {
      "text/plain": [
       "('France', 153345695364.24023)"
      ]
     },
     "execution_count": 80,
     "metadata": {},
     "output_type": "execute_result"
    }
   ],
   "source": [
    "task_nine()"
   ]
  },
  {
   "cell_type": "code",
   "execution_count": 83,
   "id": "03db3f51-ea1a-4915-b0a6-9598b5cc14ea",
   "metadata": {},
   "outputs": [],
   "source": [
    "def task_ten():\n",
    "    # Знаходимо країну з максимальним значенням у стовпці % Renewable\n",
    "    max_renewable = Result['% Renewable'].idxmax()  # Назва країни\n",
    "    max_value = Result['% Renewable'].max()  # Максимальне значення\n",
    "    \n",
    "    # Повертаємо кортеж із назвою країни та значенням\n",
    "    return (max_renewable, max_value)"
   ]
  },
  {
   "cell_type": "code",
   "execution_count": 82,
   "id": "30cd083d-3d90-4f1a-ae21-fa2a2063c343",
   "metadata": {},
   "outputs": [
    {
     "data": {
      "text/plain": [
       "('Brazil', 69.648)"
      ]
     },
     "execution_count": 82,
     "metadata": {},
     "output_type": "execute_result"
    }
   ],
   "source": [
    "task_ten()"
   ]
  },
  {
   "cell_type": "code",
   "execution_count": 84,
   "id": "67469ff3-6242-4d45-996f-d32de53a58aa",
   "metadata": {},
   "outputs": [],
   "source": [
    "def task_eleven():\n",
    "    # Оцінюємо чисельність населення\n",
    "    Result['Estimated Population'] = Result['Energy Supply'] / Result['Energy Supply per Capita']\n",
    "    \n",
    "    # Знаходимо країну з 6-м найбільшим населенням\n",
    "    sixth_population_country = Result['Estimated Population'].sort_values(ascending=False).index[5]\n",
    "    sixth_population_value = Result['Estimated Population'].sort_values(ascending=False).iloc[5]\n",
    "    \n",
    "    # Повертаємо кортеж із назвою країни та її населенням\n",
    "    return (sixth_population_country, sixth_population_value)"
   ]
  },
  {
   "cell_type": "code",
   "execution_count": 85,
   "id": "8e0a27fb-24b2-417f-a136-7da2b1f277ba",
   "metadata": {},
   "outputs": [
    {
     "data": {
      "text/plain": [
       "('Japan', 127409395.97315437)"
      ]
     },
     "execution_count": 85,
     "metadata": {},
     "output_type": "execute_result"
    }
   ],
   "source": [
    "task_eleven()"
   ]
  },
  {
   "cell_type": "code",
   "execution_count": 88,
   "id": "792d417c-7c6b-48af-baf2-78a14dc19444",
   "metadata": {},
   "outputs": [],
   "source": [
    "def task_twelve():\n",
    "    # Додаємо стовпець із кількістю цитованих документів на душу населення\n",
    "    Result['Citations per Capita'] = Result['Citations'] / Result['Estimated Population']\n",
    "    \n",
    "    # Видаляємо рядки з NaN у ключових стовпцях перед обчисленням кореляції\n",
    "    clean_data = Result[['Citations per Capita', 'Energy Supply per Capita']].dropna()\n",
    "    \n",
    "    # Обчислюємо кореляцію між 'Citations per Capita' і 'Energy Supply per Capita'\n",
    "    correlation = clean_data['Citations per Capita'].corr(clean_data['Energy Supply per Capita'])\n",
    "    \n",
    "    # Повертаємо результат кореляції\n",
    "    return correlation"
   ]
  },
  {
   "cell_type": "code",
   "execution_count": 89,
   "id": "b5f122b4-00cd-4f8e-a23b-e461d716764d",
   "metadata": {},
   "outputs": [
    {
     "data": {
      "text/plain": [
       "0.6668248468590926"
      ]
     },
     "execution_count": 89,
     "metadata": {},
     "output_type": "execute_result"
    }
   ],
   "source": [
    "task_twelve()"
   ]
  },
  {
   "cell_type": "code",
   "execution_count": 90,
   "id": "605dfe9d-22ee-4b32-bfe8-68ae7f6e07f2",
   "metadata": {},
   "outputs": [],
   "source": [
    "def task_thirteen():\n",
    "    # Обчислюємо медіану для стовпця % Renewable\n",
    "    renewable_median = Result['% Renewable'].median()\n",
    "    \n",
    "    # Створюємо новий стовпець: 1, якщо значення % Renewable >= медіани, і 0, якщо менше\n",
    "    Result['Renewable Above Median'] = (Result['% Renewable'] >= renewable_median).astype(int)\n",
    "    \n",
    "    # Повертаємо новий стовпець із назвою країни як індекс, відсортований за Rank\n",
    "    return Result[['Renewable Above Median', 'Rank']].sort_values(by='Rank')['Renewable Above Median']\n",
    "\n"
   ]
  },
  {
   "cell_type": "code",
   "execution_count": 91,
   "id": "addab788-55f1-4ec4-bef2-b54645d0bc74",
   "metadata": {},
   "outputs": [
    {
     "data": {
      "text/plain": [
       "Country\n",
       "China                 1\n",
       "United States         0\n",
       "Japan                 0\n",
       "United Kingdom        0\n",
       "Russian Federation    1\n",
       "Canada                1\n",
       "Germany               1\n",
       "India                 0\n",
       "France                1\n",
       "South Korea           0\n",
       "Italy                 1\n",
       "Spain                 1\n",
       "Iran                  0\n",
       "Australia             0\n",
       "Brazil                1\n",
       "Name: Renewable Above Median, dtype: int64"
      ]
     },
     "execution_count": 91,
     "metadata": {},
     "output_type": "execute_result"
    }
   ],
   "source": [
    "task_thirteen()"
   ]
  },
  {
   "cell_type": "code",
   "execution_count": 93,
   "id": "c85277b5-e14f-4e8d-abfb-b90a3e3002df",
   "metadata": {},
   "outputs": [],
   "source": [
    "def task_fourteen():\n",
    "    # Створюємо словник континентів\n",
    "    ContinentDict = {\n",
    "        'China':'Asia', 'United States':'North America', 'Japan':'Asia',\n",
    "        'United Kingdom':'Europe', 'Russian Federation':'Europe',\n",
    "        'Canada':'North America', 'Germany':'Europe', 'India':'Asia',\n",
    "        'France':'Europe', 'South Korea':'Asia', 'Italy':'Europe',\n",
    "        'Spain':'Europe', 'Iran':'Asia', 'Australia':'Australia', 'Brazil':'South America'\n",
    "    }\n",
    "\n",
    "    # Додаємо стовпець Continent до датафрейму\n",
    "    Result['Continent'] = Result.index.to_series().map(ContinentDict)\n",
    "    \n",
    "    # Створюємо новий DataFrame, згрупований за континентами\n",
    "    grouped = Result.groupby('Continent')['Estimated Population'].agg(['size', 'sum', 'mean', 'std'])\n",
    "    \n",
    "    # Повертаємо DataFrame\n",
    "    return grouped"
   ]
  },
  {
   "cell_type": "code",
   "execution_count": 94,
   "id": "8c275d7b-79a1-406b-a254-3b207d6cb4bd",
   "metadata": {},
   "outputs": [
    {
     "data": {
      "text/html": [
       "<div>\n",
       "<style scoped>\n",
       "    .dataframe tbody tr th:only-of-type {\n",
       "        vertical-align: middle;\n",
       "    }\n",
       "\n",
       "    .dataframe tbody tr th {\n",
       "        vertical-align: top;\n",
       "    }\n",
       "\n",
       "    .dataframe thead th {\n",
       "        text-align: right;\n",
       "    }\n",
       "</style>\n",
       "<table border=\"1\" class=\"dataframe\">\n",
       "  <thead>\n",
       "    <tr style=\"text-align: right;\">\n",
       "      <th></th>\n",
       "      <th>size</th>\n",
       "      <th>sum</th>\n",
       "      <th>mean</th>\n",
       "      <th>std</th>\n",
       "    </tr>\n",
       "    <tr>\n",
       "      <th>Continent</th>\n",
       "      <th></th>\n",
       "      <th></th>\n",
       "      <th></th>\n",
       "      <th></th>\n",
       "    </tr>\n",
       "  </thead>\n",
       "  <tbody>\n",
       "    <tr>\n",
       "      <th>Asia</th>\n",
       "      <td>5</td>\n",
       "      <td>2898666386.611</td>\n",
       "      <td>579733277.322</td>\n",
       "      <td>679097888.366</td>\n",
       "    </tr>\n",
       "    <tr>\n",
       "      <th>Australia</th>\n",
       "      <td>1</td>\n",
       "      <td>23316017.316</td>\n",
       "      <td>23316017.316</td>\n",
       "      <td>NaN</td>\n",
       "    </tr>\n",
       "    <tr>\n",
       "      <th>Europe</th>\n",
       "      <td>6</td>\n",
       "      <td>457929667.216</td>\n",
       "      <td>76321611.203</td>\n",
       "      <td>34647667.066</td>\n",
       "    </tr>\n",
       "    <tr>\n",
       "      <th>North America</th>\n",
       "      <td>2</td>\n",
       "      <td>352855249.480</td>\n",
       "      <td>176427624.740</td>\n",
       "      <td>199669644.857</td>\n",
       "    </tr>\n",
       "    <tr>\n",
       "      <th>South America</th>\n",
       "      <td>1</td>\n",
       "      <td>205915254.237</td>\n",
       "      <td>205915254.237</td>\n",
       "      <td>NaN</td>\n",
       "    </tr>\n",
       "  </tbody>\n",
       "</table>\n",
       "</div>"
      ],
      "text/plain": [
       "               size            sum          mean           std\n",
       "Continent                                                     \n",
       "Asia              5 2898666386.611 579733277.322 679097888.366\n",
       "Australia         1   23316017.316  23316017.316           NaN\n",
       "Europe            6  457929667.216  76321611.203  34647667.066\n",
       "North America     2  352855249.480 176427624.740 199669644.857\n",
       "South America     1  205915254.237 205915254.237           NaN"
      ]
     },
     "execution_count": 94,
     "metadata": {},
     "output_type": "execute_result"
    }
   ],
   "source": [
    "task_fourteen()"
   ]
  },
  {
   "cell_type": "code",
   "execution_count": 98,
   "id": "2c7034a2-e04c-4053-991a-07188172c804",
   "metadata": {},
   "outputs": [
    {
     "data": {
      "image/png": "[encoded data removed]",
      "text/plain": [
       "<Figure size 1000x600 with 1 Axes>"
      ]
     },
     "metadata": {},
     "output_type": "display_data"
    }
   ],
   "source": [
    "def task_fifteen():\n",
    "    # Створюємо колірну мапу для континентів\n",
    "    ContinentDict = {\n",
    "        'Asia': 'red', 'Europe': 'green', 'North America': 'blue', \n",
    "        'South America': 'orange', 'Australia': 'yellow'\n",
    "    }\n",
    "\n",
    "    # Додаємо кольори до нашого датафрейму відповідно до континенту\n",
    "    Result['Color'] = Result['Continent'].map(ContinentDict)\n",
    "\n",
    "    # Створюємо фігуру та підграфік\n",
    "    plt.figure(figsize=(10, 6))\n",
    "\n",
    "    # Будуємо бульбашкову діаграму\n",
    "    plt.scatter(\n",
    "        x=Result['Rank'],  # Вісь x: Рейтинг\n",
    "        y=Result['% Renewable'],  # Вісь y: Відсоток відновлюваної енергії\n",
    "        s=Result['2015'] / 10**10,  # Розмір бульбашок відповідає ВВП у 2015 році (масштабуємо)\n",
    "        c=Result['Color'],  # Колір бульбашок відповідає континенту\n",
    "        alpha=0.6, edgecolors=\"w\", linewidth=2\n",
    "    )\n",
    "\n",
    "    # Додаємо підписи для кожної країни\n",
    "    for i in range(len(Result)):\n",
    "        plt.text(Result['Rank'].iloc[i], Result['% Renewable'].iloc[i], Result.index[i], fontsize=9, ha='center')\n",
    "\n",
    "    # Налаштовуємо заголовок та підписи осей\n",
    "    plt.title('Bubble chart')\n",
    "    plt.xlabel('Rank')\n",
    "    plt.ylabel('% Renewable')\n",
    "\n",
    "    # Відображаємо діаграму\n",
    "    plt.show()\n",
    "\n",
    "# Викликаємо функцію для побудови діаграми\n",
    "task_fifteen()"
   ]
  }
 ],
 "metadata": {
  "kernelspec": {
   "display_name": "Python 3 (ipykernel)",
   "language": "python",
   "name": "python3"
  },
  "language_info": {
   "codemirror_mode": {
    "name": "ipython",
    "version": 3
   },
   "file_extension": ".py",
   "mimetype": "text/x-python",
   "name": "python",
   "nbconvert_exporter": "python",
   "pygments_lexer": "ipython3",
   "version": "3.12.4"
  }
 },
 "nbformat": 4,
 "nbformat_minor": 5
}
