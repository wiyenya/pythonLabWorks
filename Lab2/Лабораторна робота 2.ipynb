{
 "cells": [
  {
   "cell_type": "code",
   "execution_count": 69,
   "id": "20fc744c-6a4c-457a-b73b-7ae4cd267427",
   "metadata": {},
   "outputs": [
    {
     "name": "stdout",
     "output_type": "stream",
     "text": [
      "Variant 2\n"
     ]
    }
   ],
   "source": [
    "N = (7 + 4 ) % 5 + 1\n",
    "print(\"Variant \" + str(N))"
   ]
  },
  {
   "cell_type": "code",
   "execution_count": 68,
   "id": "f965603a-513d-443e-9639-fda6aa9a6f63",
   "metadata": {},
   "outputs": [
    {
     "name": "stdout",
     "output_type": "stream",
     "text": [
      "Номер вправ: 3, 4, 5, 8, 9, 11, 12, 13, 14, 16, 17, 18, 19, 20, 22, 23, 24, 27\n"
     ]
    }
   ],
   "source": [
    "print('Номер вправ: 3, 4, 5, 8, 9, 11, 12, 13, 14, 16, 17, 18, 19, 20, 22, 23, 24, 27')"
   ]
  },
  {
   "cell_type": "code",
   "execution_count": 13,
   "id": "a70a7024-f104-4109-95ad-a8620fb76df1",
   "metadata": {},
   "outputs": [],
   "source": [
    "import pandas as pd\n",
    "\n",
    "# Завантаження даних із файлу CSV\n",
    "file_path = 'NationalNames.csv'\n",
    "data = pd.read_csv(file_path)"
   ]
  },
  {
   "cell_type": "code",
   "execution_count": 10,
   "id": "1e771eef-3fc1-48f4-b11b-87589fe19656",
   "metadata": {},
   "outputs": [
    {
     "name": "stdout",
     "output_type": "stream",
     "text": [
      "Имена столбцов набора данных:\n",
      "Index(['Id', 'Name', 'Year', 'Gender', 'Count'], dtype='object')\n"
     ]
    }
   ],
   "source": [
    "# Завдання 3 : Отримайте імена стовпців набору даних\n",
    "print(\"Имена столбцов набора данных:\")\n",
    "print(data.columns)"
   ]
  },
  {
   "cell_type": "code",
   "execution_count": 71,
   "id": "72c281eb-8c43-40bb-a91f-f066875da001",
   "metadata": {},
   "outputs": [
    {
     "data": {
      "text/html": [
       "<div>\n",
       "<style scoped>\n",
       "    .dataframe tbody tr th:only-of-type {\n",
       "        vertical-align: middle;\n",
       "    }\n",
       "\n",
       "    .dataframe tbody tr th {\n",
       "        vertical-align: top;\n",
       "    }\n",
       "\n",
       "    .dataframe thead th {\n",
       "        text-align: right;\n",
       "    }\n",
       "</style>\n",
       "<table border=\"1\" class=\"dataframe\">\n",
       "  <thead>\n",
       "    <tr style=\"text-align: right;\">\n",
       "      <th></th>\n",
       "      <th>Id</th>\n",
       "      <th>Year</th>\n",
       "      <th>Count</th>\n",
       "    </tr>\n",
       "  </thead>\n",
       "  <tbody>\n",
       "    <tr>\n",
       "      <th>count</th>\n",
       "      <td>1.825433e+06</td>\n",
       "      <td>1.825433e+06</td>\n",
       "      <td>1.825433e+06</td>\n",
       "    </tr>\n",
       "    <tr>\n",
       "      <th>mean</th>\n",
       "      <td>9.127170e+05</td>\n",
       "      <td>1.972620e+03</td>\n",
       "      <td>1.846879e+02</td>\n",
       "    </tr>\n",
       "    <tr>\n",
       "      <th>std</th>\n",
       "      <td>5.269573e+05</td>\n",
       "      <td>3.352891e+01</td>\n",
       "      <td>1.566711e+03</td>\n",
       "    </tr>\n",
       "    <tr>\n",
       "      <th>min</th>\n",
       "      <td>1.000000e+00</td>\n",
       "      <td>1.880000e+03</td>\n",
       "      <td>5.000000e+00</td>\n",
       "    </tr>\n",
       "    <tr>\n",
       "      <th>25%</th>\n",
       "      <td>4.563590e+05</td>\n",
       "      <td>1.949000e+03</td>\n",
       "      <td>7.000000e+00</td>\n",
       "    </tr>\n",
       "    <tr>\n",
       "      <th>50%</th>\n",
       "      <td>9.127170e+05</td>\n",
       "      <td>1.982000e+03</td>\n",
       "      <td>1.200000e+01</td>\n",
       "    </tr>\n",
       "    <tr>\n",
       "      <th>75%</th>\n",
       "      <td>1.369075e+06</td>\n",
       "      <td>2.001000e+03</td>\n",
       "      <td>3.200000e+01</td>\n",
       "    </tr>\n",
       "    <tr>\n",
       "      <th>max</th>\n",
       "      <td>1.825433e+06</td>\n",
       "      <td>2.014000e+03</td>\n",
       "      <td>9.968000e+04</td>\n",
       "    </tr>\n",
       "  </tbody>\n",
       "</table>\n",
       "</div>"
      ],
      "text/plain": [
       "                 Id          Year         Count\n",
       "count  1.825433e+06  1.825433e+06  1.825433e+06\n",
       "mean   9.127170e+05  1.972620e+03  1.846879e+02\n",
       "std    5.269573e+05  3.352891e+01  1.566711e+03\n",
       "min    1.000000e+00  1.880000e+03  5.000000e+00\n",
       "25%    4.563590e+05  1.949000e+03  7.000000e+00\n",
       "50%    9.127170e+05  1.982000e+03  1.200000e+01\n",
       "75%    1.369075e+06  2.001000e+03  3.200000e+01\n",
       "max    1.825433e+06  2.014000e+03  9.968000e+04"
      ]
     },
     "metadata": {},
     "output_type": "display_data"
    }
   ],
   "source": [
    "# Завдання 4: Отримайте загальну інформацію про дані у наборі даних.\n",
    "\n",
    "# Отримати загальну інформацію про дані в наборі\n",
    "general_info = data.describe()\n",
    "\n",
    "# Виведення результатів у вигляді таблиці\n",
    "display(general_info)"
   ]
  },
  {
   "cell_type": "code",
   "execution_count": 72,
   "id": "5e948931-07f6-4308-a190-025d1826d1dc",
   "metadata": {},
   "outputs": [
    {
     "name": "stdout",
     "output_type": "stream",
     "text": [
      "\n",
      "Кількість унікальних імен у наборі даних:\n",
      "93889\n"
     ]
    }
   ],
   "source": [
    "# Завдання 5: Знайдіть кількість унікальних імен у наборі даних\n",
    "unique_names_count = data['Name'].nunique()\n",
    "print(\"\\nКількість унікальних імен у наборі даних:\")\n",
    "print(unique_names_count)"
   ]
  },
  {
   "cell_type": "code",
   "execution_count": 73,
   "id": "5fe80751-527b-4f60-9d79-827aeb00f812",
   "metadata": {},
   "outputs": [
    {
     "name": "stdout",
     "output_type": "stream",
     "text": [
      "The name is 'Linda' in 1947\n"
     ]
    }
   ],
   "source": [
    "# Завдання 8: Знайдіть найпопулярніше ім’я за результатами одного року (ім’я, для якого Count максимальне)\n",
    "max_count_row = data.loc[data['Count'].idxmax()]\n",
    "most_popular_name = max_count_row['Name']\n",
    "year_of_max_count = max_count_row['Year']\n",
    "print(f\"The name is '{most_popular_name}' in {year_of_max_count}\")"
   ]
  },
  {
   "cell_type": "code",
   "execution_count": 74,
   "id": "8137a4b3-dd39-406a-a2c1-4cde52f330fe",
   "metadata": {},
   "outputs": [
    {
     "name": "stdout",
     "output_type": "stream",
     "text": [
      "Количество записей с минимальным Count: 254615\n"
     ]
    }
   ],
   "source": [
    "# Завдання 9: Підрахуйте кількість записів, для яких Count - мінімальне у наборі.\n",
    "min_count = data['Count'].min()\n",
    "min_count_records = data[data['Count'] == min_count].shape[0]\n",
    "print(f\"Количество записей с минимальным Count: {min_count_records}\")"
   ]
  },
  {
   "cell_type": "code",
   "execution_count": 75,
   "id": "985492dc-34a3-4c2b-87c0-8c0b214d9375",
   "metadata": {},
   "outputs": [
    {
     "data": {
      "text/html": [
       "<div>\n",
       "<style scoped>\n",
       "    .dataframe tbody tr th:only-of-type {\n",
       "        vertical-align: middle;\n",
       "    }\n",
       "\n",
       "    .dataframe tbody tr th {\n",
       "        vertical-align: top;\n",
       "    }\n",
       "\n",
       "    .dataframe thead th {\n",
       "        text-align: right;\n",
       "    }\n",
       "</style>\n",
       "<table border=\"1\" class=\"dataframe\">\n",
       "  <thead>\n",
       "    <tr style=\"text-align: right;\">\n",
       "      <th></th>\n",
       "      <th>Year</th>\n",
       "      <th>Name</th>\n",
       "    </tr>\n",
       "  </thead>\n",
       "  <tbody>\n",
       "    <tr>\n",
       "      <th>0</th>\n",
       "      <td>2008</td>\n",
       "      <td>32488</td>\n",
       "    </tr>\n",
       "  </tbody>\n",
       "</table>\n",
       "</div>"
      ],
      "text/plain": [
       "   Year   Name\n",
       "0  2008  32488"
      ]
     },
     "metadata": {},
     "output_type": "display_data"
    }
   ],
   "source": [
    "# Завдання 11: Знайдіть рік із найбільшою кількістю унікальних імен.\n",
    "# Знайти рік із найбільшою кількістю унікальних імен\n",
    "unique_names_by_year = data.groupby('Year')['Name'].nunique()\n",
    "year_with_most_unique_names = unique_names_by_year.idxmax()\n",
    "most_unique_names_count = unique_names_by_year.max()\n",
    "\n",
    "# Створити датафрейм для відображення\n",
    "result_11 = pd.DataFrame({\n",
    "    'Year': [year_with_most_unique_names],\n",
    "    'Name': [most_unique_names_count]\n",
    "})\n",
    "\n",
    "# Відобразити результат у вигляді таблиці\n",
    "display(result_11)"
   ]
  },
  {
   "cell_type": "code",
   "execution_count": 76,
   "id": "9ae357cb-7102-49c1-9185-6414b9cf6084",
   "metadata": {},
   "outputs": [
    {
     "name": "stdout",
     "output_type": "stream",
     "text": [
      "The most popular name in 2008 is 'Jacob'\n"
     ]
    }
   ],
   "source": [
    "# Завдання 12: Знайдіть найпопулярніше ім’я в році з найбільшою кількістю унікальних імен (тобто у 2008 році)\n",
    "data_2008 = data[data['Year'] == 2008]\n",
    "most_popular_in_2008 = data_2008.loc[data_2008['Count'].idxmax()]['Name']\n",
    "print(f\"The most popular name in 2008 is '{most_popular_in_2008}'\")\n"
   ]
  },
  {
   "cell_type": "code",
   "execution_count": 77,
   "id": "afd11aec-d777-4395-89b1-6b8198989082",
   "metadata": {},
   "outputs": [
    {
     "data": {
      "text/html": [
       "<div>\n",
       "<style scoped>\n",
       "    .dataframe tbody tr th:only-of-type {\n",
       "        vertical-align: middle;\n",
       "    }\n",
       "\n",
       "    .dataframe tbody tr th {\n",
       "        vertical-align: top;\n",
       "    }\n",
       "\n",
       "    .dataframe thead th {\n",
       "        text-align: right;\n",
       "    }\n",
       "</style>\n",
       "<table border=\"1\" class=\"dataframe\">\n",
       "  <thead>\n",
       "    <tr style=\"text-align: right;\">\n",
       "      <th></th>\n",
       "      <th>Id</th>\n",
       "      <th>Name</th>\n",
       "      <th>Year</th>\n",
       "      <th>Gender</th>\n",
       "      <th>Count</th>\n",
       "    </tr>\n",
       "  </thead>\n",
       "  <tbody>\n",
       "    <tr>\n",
       "      <th>1455556</th>\n",
       "      <td>1455557</td>\n",
       "      <td>Jacob</td>\n",
       "      <td>2004</td>\n",
       "      <td>F</td>\n",
       "      <td>171</td>\n",
       "    </tr>\n",
       "  </tbody>\n",
       "</table>\n",
       "</div>"
      ],
      "text/plain": [
       "              Id   Name  Year Gender Count\n",
       "1455556  1455557  Jacob  2004      F   171"
      ]
     },
     "metadata": {},
     "output_type": "display_data"
    }
   ],
   "source": [
    "# Завдання 13: Знайдіть рік, коли ім’я “Jacob” було найпопулярнішим серед жіночих імен\n",
    "jacob_female = data[(data['Name'] == 'Jacob') & (data['Gender'] == 'F')]\n",
    "most_popular_jacob_female_year = jacob_female.loc[jacob_female['Count'].idxmax()]\n",
    "\n",
    "# Вывод результата в виде таблицы\n",
    "display(most_popular_jacob_female_year.to_frame().T)"
   ]
  },
  {
   "cell_type": "code",
   "execution_count": 81,
   "id": "f8cb8990-5a5d-45a0-b175-0fe40b88ba32",
   "metadata": {},
   "outputs": [
    {
     "data": {
      "text/html": [
       "<div>\n",
       "<style scoped>\n",
       "    .dataframe tbody tr th:only-of-type {\n",
       "        vertical-align: middle;\n",
       "    }\n",
       "\n",
       "    .dataframe tbody tr th {\n",
       "        vertical-align: top;\n",
       "    }\n",
       "\n",
       "    .dataframe thead th {\n",
       "        text-align: right;\n",
       "    }\n",
       "</style>\n",
       "<table border=\"1\" class=\"dataframe\">\n",
       "  <thead>\n",
       "    <tr style=\"text-align: right;\">\n",
       "      <th></th>\n",
       "      <th>Year</th>\n",
       "      <th>Gender_neutral_names</th>\n",
       "    </tr>\n",
       "  </thead>\n",
       "  <tbody>\n",
       "    <tr>\n",
       "      <th>0</th>\n",
       "      <td>2008</td>\n",
       "      <td>2557</td>\n",
       "    </tr>\n",
       "  </tbody>\n",
       "</table>\n",
       "</div>"
      ],
      "text/plain": [
       "   Year  Gender_neutral_names\n",
       "0  2008                  2557"
      ]
     },
     "metadata": {},
     "output_type": "display_data"
    }
   ],
   "source": [
    "# Завдання 14: Знайти рік із найбільшою кількістю гендерно нейтральних імен (однакові чоловічі та жіночі імена)\n",
    "# Знайти гендерно нейтральні імена (однакові для чоловіків і жінок в один рік)\n",
    "gender_neutral_names = data.groupby(['Year', 'Name']).filter(lambda x: len(x['Gender'].unique()) > 1)\n",
    "\n",
    "# Підрахувати кількість гендерно нейтральних імен за роками\n",
    "gender_neutral_counts = gender_neutral_names.groupby('Year')['Name'].nunique()\n",
    "\n",
    "# Знайти рік із найбільшою кількістю гендерно нейтральних імен\n",
    "year_with_most_gender_neutral = gender_neutral_counts.idxmax()\n",
    "gender_neutral_name_count = gender_neutral_counts.max()\n",
    "\n",
    "# Створити датафрейм для відображення\n",
    "result_14 = pd.DataFrame({\n",
    "    'Year': [year_with_most_gender_neutral],\n",
    "    'Gender_neutral_names': [gender_neutral_name_count]\n",
    "})\n",
    "\n",
    "# Відобразити результат у вигляді таблиці\n",
    "display(result_14)"
   ]
  },
  {
   "cell_type": "code",
   "execution_count": 82,
   "id": "0727f3b8-124b-470b-abad-ab4a46f05616",
   "metadata": {},
   "outputs": [
    {
     "name": "stdout",
     "output_type": "stream",
     "text": [
      "Год, когда родилось наибольшее количество детей: 1957\n"
     ]
    }
   ],
   "source": [
    "# Завдання 16: Знайдіть рік, коли народилося найбільше дітей\n",
    "most_births_year = data.groupby('Year')['Count'].sum().idxmax()\n",
    "print(f\"Год, когда родилось наибольшее количество детей: {most_births_year}\")"
   ]
  },
  {
   "cell_type": "code",
   "execution_count": 83,
   "id": "f8c32174-d0ac-48ca-9416-4e420c806de3",
   "metadata": {},
   "outputs": [
    {
     "name": "stdout",
     "output_type": "stream",
     "text": [
      "Количество девочек и мальчиков, родившихся каждого года (первые 5 строк):\n"
     ]
    },
    {
     "data": {
      "text/html": [
       "<div>\n",
       "<style scoped>\n",
       "    .dataframe tbody tr th:only-of-type {\n",
       "        vertical-align: middle;\n",
       "    }\n",
       "\n",
       "    .dataframe tbody tr th {\n",
       "        vertical-align: top;\n",
       "    }\n",
       "\n",
       "    .dataframe thead th {\n",
       "        text-align: right;\n",
       "    }\n",
       "</style>\n",
       "<table border=\"1\" class=\"dataframe\">\n",
       "  <thead>\n",
       "    <tr style=\"text-align: right;\">\n",
       "      <th>Gender</th>\n",
       "      <th>F</th>\n",
       "      <th>M</th>\n",
       "    </tr>\n",
       "    <tr>\n",
       "      <th>Year</th>\n",
       "      <th></th>\n",
       "      <th></th>\n",
       "    </tr>\n",
       "  </thead>\n",
       "  <tbody>\n",
       "    <tr>\n",
       "      <th>1880</th>\n",
       "      <td>90993</td>\n",
       "      <td>110491</td>\n",
       "    </tr>\n",
       "    <tr>\n",
       "      <th>1881</th>\n",
       "      <td>91954</td>\n",
       "      <td>100745</td>\n",
       "    </tr>\n",
       "    <tr>\n",
       "      <th>1882</th>\n",
       "      <td>107850</td>\n",
       "      <td>113688</td>\n",
       "    </tr>\n",
       "    <tr>\n",
       "      <th>1883</th>\n",
       "      <td>112321</td>\n",
       "      <td>104629</td>\n",
       "    </tr>\n",
       "    <tr>\n",
       "      <th>1884</th>\n",
       "      <td>129022</td>\n",
       "      <td>114445</td>\n",
       "    </tr>\n",
       "  </tbody>\n",
       "</table>\n",
       "</div>"
      ],
      "text/plain": [
       "Gender       F       M\n",
       "Year                  \n",
       "1880     90993  110491\n",
       "1881     91954  100745\n",
       "1882    107850  113688\n",
       "1883    112321  104629\n",
       "1884    129022  114445"
      ]
     },
     "metadata": {},
     "output_type": "display_data"
    }
   ],
   "source": [
    "# Завдання 17: Знайдіть кількість дівчаток та хлопчиків, які народились кожного року\n",
    "births_by_gender_per_year = data.pivot_table(values='Count', index='Year', columns='Gender', aggfunc='sum').head(5)\n",
    "print(\"Количество девочек и мальчиков, родившихся каждого года (первые 5 строк):\")\n",
    "display(births_by_gender_per_year)"
   ]
  },
  {
   "cell_type": "code",
   "execution_count": 84,
   "id": "0faa0634-ccc1-4d5e-bb8c-44179191232b",
   "metadata": {},
   "outputs": [
    {
     "name": "stdout",
     "output_type": "stream",
     "text": [
      "Количество лет, когда девочек рождалось больше, чем мальчиков: 54\n"
     ]
    }
   ],
   "source": [
    "# Завдання 18: Підрахуйте кількість років, коли дівчаток народжувалось більше, ніж хлопчиків.\n",
    "years_more_girls_than_boys = (data.pivot_table(values='Count', index='Year', columns='Gender', aggfunc='sum')['F'] > \n",
    "                              data.pivot_table(values='Count', index='Year', columns='Gender', aggfunc='sum')['M']).sum()\n",
    "print(f\"Количество лет, когда девочек рождалось больше, чем мальчиков: {years_more_girls_than_boys}\")"
   ]
  },
  {
   "cell_type": "code",
   "execution_count": 85,
   "id": "2a1ea41f-b012-41f2-9cb2-b2142d78dc57",
   "metadata": {},
   "outputs": [
    {
     "data": {
      "image/png": "[encoded data removed]",
      "text/plain": [
       "<Figure size 1000x600 with 1 Axes>"
      ]
     },
     "metadata": {},
     "output_type": "display_data"
    }
   ],
   "source": [
    "# Завдання 19: Накресліть графік загальної кількості народжень хлопчиків та дівчаток на рік.\n",
    "\n",
    "import matplotlib.pyplot as plt\n",
    "# Підготовка даних для графіка\n",
    "births_by_gender_per_year_full = data.pivot_table(values='Count', index='Year', columns='Gender', aggfunc='sum')\n",
    "\n",
    "# Побудова графіка\n",
    "plt.figure(figsize=(10, 6))\n",
    "plt.plot(births_by_gender_per_year_full.index, births_by_gender_per_year_full['F'], label='F', color='blue')\n",
    "plt.plot(births_by_gender_per_year_full.index, births_by_gender_per_year_full['M'], label='M', color='orange')\n",
    "\n",
    "# Налаштування графіка\n",
    "plt.title('Total Births per Year by Gender')\n",
    "plt.xlabel('Year')\n",
    "plt.ylabel('Total births per year')\n",
    "plt.legend(title='Gender')\n",
    "\n",
    "# Відображення графіка\n",
    "plt.show()"
   ]
  },
  {
   "cell_type": "code",
   "execution_count": 86,
   "id": "b582df03-c336-4977-927c-cfe2b00edb18",
   "metadata": {},
   "outputs": [
    {
     "name": "stdout",
     "output_type": "stream",
     "text": [
      "10221\n"
     ]
    }
   ],
   "source": [
    "# Завдання 20: Підрахуйте кількість гендерно нейтральних імен (однакових для дівчат та хлопців)\n",
    "gender_neutral_names_count = data.groupby('Name').filter(lambda x: len(x['Gender'].unique()) > 1)['Name'].nunique()\n",
    "print(gender_neutral_names_count)\n"
   ]
  },
  {
   "cell_type": "code",
   "execution_count": 87,
   "id": "dd810385-e0db-49a6-a6bc-6f4f4be07ec5",
   "metadata": {},
   "outputs": [
    {
     "name": "stdout",
     "output_type": "stream",
     "text": [
      "Спостереження проводилось 135 років\n"
     ]
    }
   ],
   "source": [
    "# Завдання 22: Підрахуйте скільки років проводилось спостереження\n",
    "years_of_observation = data['Year'].nunique()\n",
    "print(f\"Спостереження проводилось {years_of_observation} років\")"
   ]
  },
  {
   "cell_type": "code",
   "execution_count": 88,
   "id": "8a3b1225-9118-479c-a673-32350ac872b6",
   "metadata": {},
   "outputs": [
    {
     "data": {
      "text/html": [
       "<div>\n",
       "<style scoped>\n",
       "    .dataframe tbody tr th:only-of-type {\n",
       "        vertical-align: middle;\n",
       "    }\n",
       "\n",
       "    .dataframe tbody tr th {\n",
       "        vertical-align: top;\n",
       "    }\n",
       "\n",
       "    .dataframe thead th {\n",
       "        text-align: right;\n",
       "    }\n",
       "</style>\n",
       "<table border=\"1\" class=\"dataframe\">\n",
       "  <thead>\n",
       "    <tr style=\"text-align: right;\">\n",
       "      <th></th>\n",
       "      <th>Name</th>\n",
       "    </tr>\n",
       "  </thead>\n",
       "  <tbody>\n",
       "    <tr>\n",
       "      <th>0</th>\n",
       "      <td>Lee</td>\n",
       "    </tr>\n",
       "    <tr>\n",
       "      <th>1</th>\n",
       "      <td>James</td>\n",
       "    </tr>\n",
       "    <tr>\n",
       "      <th>2</th>\n",
       "      <td>Johnnie</td>\n",
       "    </tr>\n",
       "    <tr>\n",
       "      <th>3</th>\n",
       "      <td>Jesse</td>\n",
       "    </tr>\n",
       "    <tr>\n",
       "      <th>4</th>\n",
       "      <td>Ollie</td>\n",
       "    </tr>\n",
       "    <tr>\n",
       "      <th>5</th>\n",
       "      <td>Marion</td>\n",
       "    </tr>\n",
       "    <tr>\n",
       "      <th>6</th>\n",
       "      <td>Jessie</td>\n",
       "    </tr>\n",
       "    <tr>\n",
       "      <th>7</th>\n",
       "      <td>Robert</td>\n",
       "    </tr>\n",
       "    <tr>\n",
       "      <th>8</th>\n",
       "      <td>Tommie</td>\n",
       "    </tr>\n",
       "    <tr>\n",
       "      <th>9</th>\n",
       "      <td>Joseph</td>\n",
       "    </tr>\n",
       "    <tr>\n",
       "      <th>10</th>\n",
       "      <td>Leslie</td>\n",
       "    </tr>\n",
       "    <tr>\n",
       "      <th>11</th>\n",
       "      <td>John</td>\n",
       "    </tr>\n",
       "    <tr>\n",
       "      <th>12</th>\n",
       "      <td>William</td>\n",
       "    </tr>\n",
       "    <tr>\n",
       "      <th>13</th>\n",
       "      <td>Sidney</td>\n",
       "    </tr>\n",
       "    <tr>\n",
       "      <th>14</th>\n",
       "      <td>Jean</td>\n",
       "    </tr>\n",
       "  </tbody>\n",
       "</table>\n",
       "</div>"
      ],
      "text/plain": [
       "       Name\n",
       "0       Lee\n",
       "1     James\n",
       "2   Johnnie\n",
       "3     Jesse\n",
       "4     Ollie\n",
       "5    Marion\n",
       "6    Jessie\n",
       "7    Robert\n",
       "8    Tommie\n",
       "9    Joseph\n",
       "10   Leslie\n",
       "11     John\n",
       "12  William\n",
       "13   Sidney\n",
       "14     Jean"
      ]
     },
     "metadata": {},
     "output_type": "display_data"
    }
   ],
   "source": [
    "# Завдання 23: Знати найпопулярніші гендерно-нейтральні імена (ті, що присутні кожного року)\n",
    "\n",
    "# Знайти найпопулярніші гендерно-нейтральні імена (присутні щороку)\n",
    "gender_neutral_names = data.groupby(['Year', 'Name']).filter(lambda x: len(x['Gender'].unique()) > 1)\n",
    "popular_gender_neutral_names = gender_neutral_names.groupby('Name').size().sort_values(ascending=False).head(15)\n",
    "\n",
    "# Перетворення в DataFrame без відображення кількості\n",
    "popular_gender_neutral_names_df = pd.DataFrame(popular_gender_neutral_names.index).reset_index(drop=True)\n",
    "\n",
    "# Відображення результату\n",
    "display(popular_gender_neutral_names_df)"
   ]
  },
  {
   "cell_type": "code",
   "execution_count": 90,
   "id": "23ba871a-d34e-4e93-8464-89afe7651600",
   "metadata": {},
   "outputs": [
    {
     "name": "stdout",
     "output_type": "stream",
     "text": [
      "Найбільш популярне з непопулярних імен - це Aayana. Їм називали 99 разів.\n"
     ]
    }
   ],
   "source": [
    "# Завдання 24: Знайти найпопулярніше серед непопулярних імен (непопулярне ім’я, яким називали дітей найбільшу кількість разів )\n",
    "\n",
    "# Визначаємо поріг для «непопулярних» імен (наприклад, тих, що трапляються менше 100 разів)\n",
    "threshold = 100\n",
    "\n",
    "# Групуємо імена за їхньою загальною кількістю використань і фільтруємо за непопулярними іменами\n",
    "names_count = data.groupby('Name').sum()['Count']\n",
    "unpopular_names = names_count[names_count < threshold]\n",
    "\n",
    "# Знаходимо найпопулярніше ім'я серед непопулярних\n",
    "most_popular_unpopular_name = unpopular_names.idxmax()\n",
    "most_popular_unpopular_count = unpopular_names.max()\n",
    "\n",
    "# Виведення результату\n",
    "print(f\"Найбільш популярне з непопулярних імен - це {most_popular_unpopular_name}. Їм називали {most_popular_unpopular_count} разів.\")"
   ]
  },
  {
   "cell_type": "code",
   "execution_count": 92,
   "id": "f4f5e4f3-848c-4620-b1a4-b363937e3b73",
   "metadata": {},
   "outputs": [
    {
     "name": "stdout",
     "output_type": "stream",
     "text": [
      "Имя 'Celester' использовалось 401 раз.\n"
     ]
    }
   ],
   "source": [
    "# Фільтруємо дані за ім'ям «Celester»\n",
    "celester_data = data[data['Name'] == 'Celester']\n",
    "\n",
    "# Підсумовуємо кількість використань імені «Celester»\n",
    "celester_total_count = celester_data['Count'].sum()\n",
    "\n",
    "# Виведення результату\n",
    "print(f\"Имя 'Celester' использовалось {celester_total_count} раз.\")"
   ]
  },
  {
   "cell_type": "code",
   "execution_count": 91,
   "id": "15612737-7989-4e11-bb8b-991ad52617c0",
   "metadata": {},
   "outputs": [
    {
     "data": {
      "text/html": [
       "<div>\n",
       "<style scoped>\n",
       "    .dataframe tbody tr th:only-of-type {\n",
       "        vertical-align: middle;\n",
       "    }\n",
       "\n",
       "    .dataframe tbody tr th {\n",
       "        vertical-align: top;\n",
       "    }\n",
       "\n",
       "    .dataframe thead th {\n",
       "        text-align: right;\n",
       "    }\n",
       "</style>\n",
       "<table border=\"1\" class=\"dataframe\">\n",
       "  <thead>\n",
       "    <tr style=\"text-align: right;\">\n",
       "      <th></th>\n",
       "      <th>Year</th>\n",
       "      <th>Name</th>\n",
       "      <th>Count</th>\n",
       "    </tr>\n",
       "  </thead>\n",
       "  <tbody>\n",
       "    <tr>\n",
       "      <th>942</th>\n",
       "      <td>1880</td>\n",
       "      <td>John</td>\n",
       "      <td>9655</td>\n",
       "    </tr>\n",
       "    <tr>\n",
       "      <th>2938</th>\n",
       "      <td>1881</td>\n",
       "      <td>John</td>\n",
       "      <td>8769</td>\n",
       "    </tr>\n",
       "    <tr>\n",
       "      <th>4963</th>\n",
       "      <td>1882</td>\n",
       "      <td>John</td>\n",
       "      <td>9557</td>\n",
       "    </tr>\n",
       "    <tr>\n",
       "      <th>7116</th>\n",
       "      <td>1883</td>\n",
       "      <td>John</td>\n",
       "      <td>8894</td>\n",
       "    </tr>\n",
       "    <tr>\n",
       "      <th>9318</th>\n",
       "      <td>1884</td>\n",
       "      <td>John</td>\n",
       "      <td>9388</td>\n",
       "    </tr>\n",
       "    <tr>\n",
       "      <th>...</th>\n",
       "      <td>...</td>\n",
       "      <td>...</td>\n",
       "      <td>...</td>\n",
       "    </tr>\n",
       "    <tr>\n",
       "      <th>1657592</th>\n",
       "      <td>2010</td>\n",
       "      <td>Isabella</td>\n",
       "      <td>22883</td>\n",
       "    </tr>\n",
       "    <tr>\n",
       "      <th>1691633</th>\n",
       "      <td>2011</td>\n",
       "      <td>Sophia</td>\n",
       "      <td>21816</td>\n",
       "    </tr>\n",
       "    <tr>\n",
       "      <th>1725502</th>\n",
       "      <td>2012</td>\n",
       "      <td>Sophia</td>\n",
       "      <td>22267</td>\n",
       "    </tr>\n",
       "    <tr>\n",
       "      <th>1759186</th>\n",
       "      <td>2013</td>\n",
       "      <td>Sophia</td>\n",
       "      <td>21147</td>\n",
       "    </tr>\n",
       "    <tr>\n",
       "      <th>1792389</th>\n",
       "      <td>2014</td>\n",
       "      <td>Emma</td>\n",
       "      <td>20799</td>\n",
       "    </tr>\n",
       "  </tbody>\n",
       "</table>\n",
       "<p>135 rows × 3 columns</p>\n",
       "</div>"
      ],
      "text/plain": [
       "         Year      Name  Count\n",
       "942      1880      John   9655\n",
       "2938     1881      John   8769\n",
       "4963     1882      John   9557\n",
       "7116     1883      John   8894\n",
       "9318     1884      John   9388\n",
       "...       ...       ...    ...\n",
       "1657592  2010  Isabella  22883\n",
       "1691633  2011    Sophia  21816\n",
       "1725502  2012    Sophia  22267\n",
       "1759186  2013    Sophia  21147\n",
       "1792389  2014      Emma  20799\n",
       "\n",
       "[135 rows x 3 columns]"
      ]
     },
     "metadata": {},
     "output_type": "display_data"
    }
   ],
   "source": [
    "# Задание 27: Знайти найпопулярніші імена в кожному році.\n",
    "\n",
    "# Знайти найпопулярніші імена в кожному році\n",
    "popular_names_each_year = data.loc[data.groupby('Year')['Count'].idxmax()][['Year', 'Name', 'Count']]\n",
    "\n",
    "# Відобразити всі рядки результату\n",
    "display(popular_names_each_year)"
   ]
  }
 ],
 "metadata": {
  "kernelspec": {
   "display_name": "Python 3 (ipykernel)",
   "language": "python",
   "name": "python3"
  },
  "language_info": {
   "codemirror_mode": {
    "name": "ipython",
    "version": 3
   },
   "file_extension": ".py",
   "mimetype": "text/x-python",
   "name": "python",
   "nbconvert_exporter": "python",
   "pygments_lexer": "ipython3",
   "version": "3.12.4"
  }
 },
 "nbformat": 4,
 "nbformat_minor": 5
}
