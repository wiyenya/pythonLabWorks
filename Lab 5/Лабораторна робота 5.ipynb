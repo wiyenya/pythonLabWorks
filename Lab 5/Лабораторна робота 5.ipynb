{
 "cells": [
  {
   "cell_type": "code",
   "execution_count": 1,
   "id": "4c24a7c1-b00e-42aa-8e6a-85e163983352",
   "metadata": {},
   "outputs": [
    {
     "name": "stdout",
     "output_type": "stream",
     "text": [
      "Variant 2\n"
     ]
    }
   ],
   "source": [
    "N = (7 + 4 ) % 5 + 1\n",
    "print(\"Variant \" + str(N))"
   ]
  },
  {
   "cell_type": "code",
   "execution_count": 3,
   "id": "b6c9e38e-3ce6-4ce9-91a4-97aa0d98d1d4",
   "metadata": {},
   "outputs": [
    {
     "name": "stdout",
     "output_type": "stream",
     "text": [
      "   N         file name image size glasses color  line width\n",
      "0  1  emma-watson2.jpg    300x300           red           2\n",
      "1  2   emma-watson.jpg    400x400          blue           3\n",
      "2  3         draco.jpg    700x700          cian           4\n",
      "3  4    longbottom.jpg    600x600       magenta           5\n",
      "4  5    ron_wesley.jpg    500x500        yellow           6\n"
     ]
    }
   ],
   "source": [
    "import pandas as pd\n",
    "\n",
    "# Завантаження даних з файлу kr1.xlsx в датафрейм\n",
    "file_path = 'lab6.xlsx'  # замініть на шлях до вашого файлу\n",
    "df = pd.read_excel(file_path)\n",
    "\n",
    "# Виведення перших кількох рядків, щоб переконатись у правильності завантаження\n",
    "print(df.head())"
   ]
  },
  {
   "cell_type": "code",
   "execution_count": 39,
   "id": "9cf57390-da11-44bf-889e-db5f49a3f995",
   "metadata": {},
   "outputs": [],
   "source": [
    "import cv2\n",
    "from PIL import Image, ImageDraw\n",
    "\n",
    "# Загрузка каскадов для распознавания лиц и глаз с использованием каскада для очков\n",
    "face_cascade = cv2.CascadeClassifier(cv2.data.haarcascades + 'haarcascade_frontalface_default.xml')\n",
    "eye_cascade = cv2.CascadeClassifier(cv2.data.haarcascades + 'haarcascade_eye_tree_eyeglasses.xml')\n",
    "\n",
    "# Функция для добавления очков на изображение\n",
    "def add_glasses(image_path, output_path, glasses_color, line_width):\n",
    "    # Чтение изображения через OpenCV\n",
    "    img = cv2.imread(image_path)\n",
    "    gray = cv2.cvtColor(img, cv2.COLOR_BGR2GRAY)\n",
    "    \n",
    "    # Определение лиц на изображении\n",
    "    faces = face_cascade.detectMultiScale(gray, scaleFactor=1.3, minNeighbors=4)\n",
    "    print(f'Количество найденных лиц: {len(faces)}')\n",
    "\n",
    "    if len(faces) == 0:\n",
    "        print(\"Лицо не найдено\")\n",
    "        return\n",
    "    \n",
    "    # Открываем изображение через PIL для рисования\n",
    "    pil_img = Image.open(image_path)\n",
    "    draw = ImageDraw.Draw(pil_img)\n",
    "\n",
    "    # Проходим по всем лицам\n",
    "    for (x, y, w, h) in faces:\n",
    "        print(f\"Найдено лицо с координатами: x={x}, y={y}, ширина={w}, высота={h}\")\n",
    "        \n",
    "        # Область лица\n",
    "        face_roi = gray[y:y + h, x:x + w]\n",
    "        roi_color = img[y:y+h, x:x+w]\n",
    "\n",
    "        # Определение глаз в области лица с использованием нового каскада\n",
    "        eyes = eye_cascade.detectMultiScale(face_roi, scaleFactor=1.1, minNeighbors=5, minSize=(30, 30))\n",
    "        print(f'Количество найденных глаз: {len(eyes)}')\n",
    "\n",
    "        if len(eyes) < 2:\n",
    "            print(f\"Найдено глаз: {len(eyes)}. Недостаточно глаз для добавления очков.\")\n",
    "            continue\n",
    "        \n",
    "        # Отбираем два глаза и проверяем, что они находятся на одной линии\n",
    "        eyes = sorted(eyes, key=lambda ex: ex[0])[:2]\n",
    "        \n",
    "        # Проверяем, что глаза находятся примерно на одной высоте (по вертикальной координате)\n",
    "        if abs(eyes[0][1] - eyes[1][1]) > 20:  # Порог 20 пикселей\n",
    "            print(f\"Глаза не на одной линии: разница в высоте {abs(eyes[0][1] - eyes[1][1])} пикселей, пропуск изображения.\")\n",
    "            continue  # Пропускаем изображение\n",
    "        \n",
    "        # Координаты глаз\n",
    "        left_eye = (x + eyes[0][0] + eyes[0][2] // 2, y + eyes[0][1] + eyes[0][3] // 2)\n",
    "        right_eye = (x + eyes[1][0] + eyes[1][2] // 2, y + eyes[1][1] + eyes[1][3] // 2)\n",
    "\n",
    "        print(f\"Координаты левого глаза: {left_eye}, правого глаза: {right_eye}\")\n",
    "        \n",
    "        # Радиус очков\n",
    "        radius = (right_eye[0] - left_eye[0]) // 3\n",
    "        \n",
    "        # Рисуем очки\n",
    "        draw.ellipse((left_eye[0] - radius, left_eye[1] - radius, left_eye[0] + radius, left_eye[1] + radius),\n",
    "                     outline=glasses_color, width=line_width)\n",
    "        draw.ellipse((right_eye[0] - radius, right_eye[1] - radius, right_eye[0] + radius, right_eye[1] + radius),\n",
    "                     outline=glasses_color, width=line_width)\n",
    "        \n",
    "        # Рисуем переносицу\n",
    "        draw.line((left_eye[0] + radius, left_eye[1], right_eye[0] - radius, right_eye[1]), \n",
    "                  fill=glasses_color, width=line_width)\n",
    "\n",
    "        # Рисуем заушники\n",
    "        draw.line((left_eye[0] - radius, left_eye[1], left_eye[0] - radius - 50, left_eye[1]), \n",
    "                  fill=glasses_color, width=line_width)\n",
    "        draw.line((right_eye[0] + radius, right_eye[1], right_eye[0] + radius + 50, right_eye[1]), \n",
    "                  fill=glasses_color, width=line_width)\n",
    "\n",
    "    # Сохраняем и показываем результат\n",
    "    pil_img.save(output_path)\n",
    "    pil_img.show()\n",
    "\n"
   ]
  },
  {
   "cell_type": "code",
   "execution_count": 40,
   "id": "2fa1f096-6ba9-4262-b1e0-0f8bc3d23aa1",
   "metadata": {},
   "outputs": [
    {
     "name": "stdout",
     "output_type": "stream",
     "text": [
      "Количество найденных лиц: 1\n",
      "Найдено лицо с координатами: x=90, y=106, ширина=226, высота=226\n",
      "Количество найденных глаз: 2\n",
      "Координаты левого глаза: (166, 190), правого глаза: (244, 196)\n"
     ]
    }
   ],
   "source": [
    "add_glasses('emma-watson.jpg', 'output_with_glasses.jpg', 'red', 5)"
   ]
  },
  {
   "cell_type": "code",
   "execution_count": 42,
   "id": "76f664c0-ca45-4d79-b9e1-c710f9e580e6",
   "metadata": {},
   "outputs": [
    {
     "name": "stdout",
     "output_type": "stream",
     "text": [
      "Количество найденных лиц: 1\n",
      "Найдено лицо с координатами: x=178, y=185, ширина=351, высота=351\n",
      "Количество найденных глаз: 2\n",
      "Координаты левого глаза: (289, 324), правого глаза: (415, 317)\n"
     ]
    }
   ],
   "source": [
    "add_glasses('draco.jpg', 'output_with_glasses.jpg', 'red', 5)"
   ]
  },
  {
   "cell_type": "code",
   "execution_count": 44,
   "id": "c3b7d97d-7bc1-4d3b-9122-37d63c4d5cee",
   "metadata": {},
   "outputs": [
    {
     "name": "stdout",
     "output_type": "stream",
     "text": [
      "Количество найденных лиц: 1\n",
      "Найдено лицо с координатами: x=220, y=115, ширина=183, высота=183\n",
      "Количество найденных глаз: 2\n",
      "Координаты левого глаза: (272, 184), правого глаза: (350, 190)\n"
     ]
    }
   ],
   "source": [
    "add_glasses('ron_wesley.jpg', 'output_with_glasses.jpg', 'red', 5)"
   ]
  },
  {
   "cell_type": "code",
   "execution_count": 45,
   "id": "ef11636c-6df5-4156-bbce-4f40376429d8",
   "metadata": {},
   "outputs": [
    {
     "name": "stdout",
     "output_type": "stream",
     "text": [
      "Количество найденных лиц: 1\n",
      "Найдено лицо с координатами: x=167, y=125, ширина=287, высота=287\n",
      "Количество найденных глаз: 2\n",
      "Координаты левого глаза: (260, 238), правого глаза: (353, 236)\n"
     ]
    }
   ],
   "source": [
    "add_glasses('longbottom.jpg', 'output_with_glasses.jpg', 'red', 5)"
   ]
  },
  {
   "cell_type": "code",
   "execution_count": 46,
   "id": "1112d6a6-3630-41bf-98a0-b14f28a567f5",
   "metadata": {},
   "outputs": [
    {
     "name": "stdout",
     "output_type": "stream",
     "text": [
      "Количество найденных лиц: 1\n",
      "Найдено лицо с координатами: x=89, y=105, ширина=223, высота=223\n",
      "Количество найденных глаз: 2\n",
      "Координаты левого глаза: (159, 195), правого глаза: (242, 186)\n"
     ]
    }
   ],
   "source": [
    "add_glasses('emma-watson2.jpg', 'output_with_glasses.jpg', 'red', 5)"
   ]
  }
 ],
 "metadata": {
  "kernelspec": {
   "display_name": "Python 3 (ipykernel)",
   "language": "python",
   "name": "python3"
  },
  "language_info": {
   "codemirror_mode": {
    "name": "ipython",
    "version": 3
   },
   "file_extension": ".py",
   "mimetype": "text/x-python",
   "name": "python",
   "nbconvert_exporter": "python",
   "pygments_lexer": "ipython3",
   "version": "3.12.4"
  }
 },
 "nbformat": 4,
 "nbformat_minor": 5
}
